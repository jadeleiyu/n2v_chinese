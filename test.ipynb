{
 "cells": [
  {
   "cell_type": "code",
   "execution_count": 1,
   "metadata": {},
   "outputs": [],
   "source": [
    "from data_collect import make_query"
   ]
  },
  {
   "cell_type": "code",
   "execution_count": 2,
   "metadata": {
    "scrolled": false
   },
   "outputs": [
    {
     "name": "stdout",
     "output_type": "stream",
     "text": [
      "rel: locatum_on, novelty: established\n",
      "q[tag=\"PP.?|DT\"]?[tag=\"N.*\"][tag=\"V.*\"][tag=\"PP.?|DT\"]?[lemma=\"slipcover|cover|linoleum|carpet|newspaper|camouflage|litter|paper|wallpaper|paint|spraypaint|waterpaint|flatpaint|oilpaint|varnish|shellac|enamel|beeswax|wax|whitewash|coat|roof|cedarshingle|brick|tile|plaster|cobblestone|tarmac|gravel|asphalt|seed|forest|feather|pad|panel|marmalade|butter|jam|ice|grease|soap|coldcream|pomade|salve|balm|ink|perfume|blood|oil|water|mist|tarandfeather|powder|rouge|talc|chalk|flour|crumb|bread|dust|sugar|resin|sawdust|chrome|silver|tin|man|people|mob|ice|mist|fog|cloud|dress|clothe|belt|glove|mask|diaper|nappy|crown|wig|veil|kerchief|shroud|saddle|halter|shoe|muzzle|rug|bridle|rein|collar|harness|yoke|date|sign|initial|address|zipcode|graffiti|asterisk|star|brand|stamp|cross|ticket|label|name|nickname|stamp|seal|waxseal|poster|tag|signpost|festoon|garland|sequin|miscellaneousteacosy|crown|cap|lid|cushion|bandage|string|bait|flag|scar|bruise|chin|breast|dogear|patch|spot|feather|timber|spice|salt|pepper|saltandpepper|sugar|cream|creamandsugar|gas|fuel|coal|fire|hem|hemstitch|buttonhole|stitch|ladder|thread|lace|block|partition|block|barricade|cork|stopper|bug|plug|dam|soil|leaven|pit|rafter|beam|fodder|pension|horse|arm|petition|summons|subpoena|serenade|water|bribe|drug|poison|dope|earth|ground|snowball|ence|wall|frame|screen|glass|fence|hedge|signpost|bridge|span\"&tag=\"N.*\"][lemma=\"on|onto|in|into\"][tag=\"PP.?|DT\"]?[tag=\"N.*\"]\n",
      "\n",
      "rel: locatum_on, novelty: novel\n",
      "q[tag=\"PP.?|DT\"]?[tag=\"N.*\"][tag=\"V.*\"][tag=\"PP.?|DT\"]?[lemma=\"blanket|bedspread|coverlet|sheet|oilcloth|woolcarpet|shagrug|roll|polyurethane|acrylic|lime|parquet|turf|plank|lemonicing|extractofbeef|almondtopping|crisco|graphite|cork|personnel|tenant|robe|shawl|sweater|shirt|trouser|jacket|cloak|uniform|straitjacket|pamper|beard|cap|figleaf|blacktie|receipt|watermark|badge|placard|licenseplate|polkadot|picture|pearl|ring|jewel|pattern|tincan|vine|stairrod|battlement|pickle|scab|shaft|lemon|ice|quaker|seam|gusset|dart|steppingstone|tree|pill|mast|lantern|restump|gift|christmasgift|cocktail|postcard|allowance|message|fee|tomato|rottenegg|chair|greenbelt|ringroad|tree|gutter|curb|billboard|lid|tunnel|trustee\"&tag=\"N.*\"][lemma=\"on|onto|in|into\"][tag=\"PP.?|DT\"]?[tag=\"N.*\"]\n",
      "\n",
      "rel: locatum_out, novelty: established\n",
      "q[tag=\"PP.?|DT\"]?[tag=\"N.*\"][tag=\"V.*\"][tag=\"PP.?|DT\"]?[lemma=\"skin|feather|shell|shuck|scale|peel|dust|husk|hull|fleece|sweat|girdle|top|pinion|beard|head|bur|pollpollard|pants|scalp|louse|pip|stone|core|bone|gut|grallach|brain|wind|worm|weed|fish|milk|juice|burl|loot|pillage\"&tag=\"N.*\"][lemma=\"out|from|off|down\"][tag=\"PP.?|DT\"]?[tag=\"N.*\"]\n",
      "\n",
      "rel: locatum_out, novelty: novel\n",
      "q[tag=\"PP.?|DT\"]?[tag=\"N.*\"][tag=\"V.*\"][tag=\"PP.?|DT\"]?[lemma=\"rind|bark|flesh|rind|hide|limb|stem|stalk|fin|gill|lint|flea\"&tag=\"N.*\"][lemma=\"out|from|off|down\"][tag=\"PP.?|DT\"]?[tag=\"N.*\"]\n",
      "\n",
      "rel: location_on, novelty: established\n",
      "q[tag=\"PP.?|DT\"]?[tag=\"N.*\"][tag=\"V.*\"][tag=\"PP.?|DT\"]?[tag=\"N.*\"][lemma=\"on|onto|in|into\"][tag=\"PP.?|DT\"]?[lemma=\"ces|beach|land|bench|shelve|spool|string|spit|skewer|tender|leash|list|blacklist|book|log|docket|schedule|slate|inventory|headline|screen|chart|map|land|floor|stage|table|strand|curb|spot|sidetrack|shoulder|hip|headquarter|bivouac|lodge|bed|field|jail|jug|quod|cloister|shelter|house|stable|kennel|pen|coop|cage|earth|nest|roost|slum|camp|room|hole|cellar|garage|park|harbor|berth|drydock|dairy|corral|pasture|pigeonhole|file|pocket|bank|pot|tin|jug|sack|bag|box|bottle|picture|graph|film|photograph|package|parcel|book|dish|brine|seat|corner|tree|pillory|cradle|bed|bunk|porch|ca|palm|air|mothball|mire|orbit|sun|boundary|dock|station|face\"&tag=\"N.*\"]\n",
      "\n",
      "rel: location_on, novelty: novel\n",
      "q[tag=\"PP.?|DT\"]?[tag=\"N.*\"][tag=\"V.*\"][tag=\"PP.?|DT\"]?[tag=\"N.*\"][lemma=\"on|onto|in|into\"][tag=\"PP.?|DT\"]?[lemma=\"clotheshorse|doormat|rack|hook|shortlist|sicklist|waitlist|frontpage|bulletin|banner|blueprint|easel|sidewalk|island|horse|keyboard|stall|barn|shed|sty|hive|tanker|hut|youthhostel|office|tidepool|head|tent|closet|cloakroom|cupboard|hangar|silo|warehouse|desk|filecabinet|showcase|billfold|coinpurse|piggybank|shrine|scabbard|creel|barrel|case|keg|pouch|flask|coffer|casket|coffin|litterbasket|hole|window|snapshot|cache|footnote|card|site|parkingmeter|desk\"&tag=\"N.*\"]\n",
      "\n",
      "rel: location_out, novelty: established\n",
      "q[tag=\"PP.?|DT\"]?[tag=\"N.*\"][tag=\"V.*\"][tag=\"PP.?|DT\"]?[tag=\"N.*\"][lemma=\"out|from|off|down\"][tag=\"PP.?|DT\"]?[lemma=\"mine|quarry|pod|shell|tee\"&tag=\"N.*\"]\n",
      "\n",
      "rel: location_out, novelty: novel\n",
      "q[tag=\"PP.?|DT\"]?[tag=\"N.*\"][tag=\"V.*\"][tag=\"PP.?|DT\"]?[tag=\"N.*\"][lemma=\"out|from|off|down\"][tag=\"PP.?|DT\"]?[lemma=\"\"&tag=\"N.*\"]\n",
      "\n",
      "rel: agent, novelty: established\n",
      "q[tag=\"PP.?|DT\"]?[tag=\"N.*\"][tag=\"V.*\"][tag=\"IN\"]?[tag=\"PP.?|DT\"]?[tag=\"N.*\"][lemma=\"as|like\"][tag=\"PP.?|DT\"]?[lemma=\"butcher|jockey|referee|umpire|nurse|doctor|tutor|valet|pilot|captain|skipper|police|guard|emcee|model|shepherd|vet|author|tailor|soldier|maid|butler|clown|smith|apprentice|pioneer|pimp|pander|priest|referee|champion|partner|usher|escort|squire|chaperone|mother|sire|father|parent|husband|wife|lord|queen|bully|boss|master|doctor|pirate|lynch|burke|jobe|filibuster|like|volunteer|marshal|rival|spirit|picket|dragoon|vaquero|star|corpse|clown|fool|clerk|slave|minister|chum|buddy|knight|gipsy|quarterback|vagabond|neighbor|gossip|meander|outfox|parrot|dog|birddog|watchdog|hound|ape|copycat|ferret|squirrel|buffalo|wolf|worm|chicken|pig|snake|duck|leech|onto|rat|clam|buck|monkey|hare|skylark|crane|beef|crow\"&tag=\"N.*\"]\n",
      "\n",
      "rel: agent, novelty: novel\n",
      "q[tag=\"PP.?|DT\"]?[tag=\"N.*\"][tag=\"V.*\"][tag=\"IN\"]?[tag=\"PP.?|DT\"]?[tag=\"N.*\"][lemma=\"as|like\"][tag=\"PP.?|DT\"]?[lemma=\"general|agent|broker|carpenter|buccaneer|pickpocket|gigolo|chef|laundress|blackleg|lawyer|pilot|waitress|housewife|companion|uncle|god|chairman|fishwife|highhat|dont|flunkey|soprano|houseguest|racketeer|barbershop|postdoc|pundit|one|tourist|privateeye|lover|heroine|man|peacocked|cat\"&tag=\"N.*\"]\n",
      "\n",
      "rel: goal, novelty: established\n",
      "q[tag=\"PP.?|DT\"]?[tag=\"N.*\"][tag=\"V.*\"][tag=\"PP.?|DT\"]?[tag=\"N.*\"][lemma=\"become|into\"][tag=\"PP.?|DT\"]?[lemma=\"fool|orphan|baby|kn|scapegoat|cuckold|cripple|gull|dupe|widow|outlaw|dwarf|martyr|recruit|group|pod|regiment|parade|line|sequence|array|swarm|order|cluster|group|club|gang|line|queue|pile|mass|heap|hoard|pool|carpool|bundle|stack|sheaf|bale|pulp|loop|coil|knot|crook|curl|ball|braid|plait|ringlet|wrinkle|crease|pleat|honeycomb|dice|cube|cup|block|form|terrace|silhouette|bead|cave|balloon|cocoon|powder|crumb|cash|flake|quarter|segment|portion|share|parcel|cipher|script|fingerprint|copy|number|psalm|latin|nest|leaf|branch|flower|bud|bloom|blossom|cub|calve|lamb|fawn|kitten|pup|litter|whelp|spawn|child|tear|freckle|fork|zigzag|spiral|sandwich|cream|lather|flame|pickle|strand|ruin|treasure|pawn|quilt|riddle|dart|tower\"&tag=\"N.*\"]\n",
      "\n",
      "rel: goal, novelty: novel\n",
      "q[tag=\"PP.?|DT\"]?[tag=\"N.*\"][tag=\"V.*\"][tag=\"PP.?|DT\"]?[tag=\"N.*\"][lemma=\"become|into\"][tag=\"PP.?|DT\"]?[lemma=\"saint|hostage|monk|lawn|hinge|accordion|matchstick|julienne|square|tent|balloon|spreadeagle|concertina|lump|loaf|layer|bulbed|joint|fission|monolog|alphabet|cuneiform|image\"&tag=\"N.*\"]\n",
      "\n",
      "rel: instrument, novelty: established\n",
      "q[tag=\"PP.?|DT\"]?[tag=\"N.*\"][tag=\"V.*\"][tag=\"PP.?|DT\"]?[tag=\"N.*\"][lemma=\"with|by|through|via|using\"][tag=\"PP.?|DT\"]?[lemma=\"auto|caravan|scooter|motorcycle|bicycle|bike|cycle|taxi|yacht|punt|barge|raft|canoe|kayak|sailplane|helicopter|balloon|parachute|rocket|sledge|sled|ski|skate|rollerskate|waterski|surfboard|snowshoe|paddle|scull|pedal|wing|steam|motor|thumb|surf|truck|bus|cart|wheelbarrow|wherry|ship|telephone|wire|cable|radio|beam|pedal|sail|pipe|tack|staple|bolt|screw|paperclip|pin|rivet|wire|solder|paste|cement|glue|gum|tape|scotchtape|cello|shackle|clamp|handcuff|gyve|fetter|manacle|chain|gag|belt|latch|padlock|bar|lock|buckle|clasp|hook|zip|snap|button|strap|tether|cable|anchor|hoover|snowplow|rake|filter|bath|shower|sponge|flannel|chamois|sandpaper|steelwool|towel|washcloth|shampoo|hammer|club|bat|boot|stone|press|whip|bullwhip|cane|knife|bayonet|drill|saw|lance|ax|hacksaw|spear|scythe|tomahawk|machete|harpoon|bomb|torpedo|grenade|shell|gas|dynamite|torch|firebomb|gun|teargas|beartrap|net|seine|snare|lime|lasso|rope|collar|screen|screen|bloc|barricade|cordon|rope|dam|brick|track|trail|tail|pipe|fid|whistle|fork|spoon|ladle|sieve|lobby|school|market|ranch|farm|garden|market|eyeball|eye|badmouth|mouth|tongue|hand|finger|thumb|straightarm|shoulder|elbow|knee|jaw|shin|foot|toe|wedge|wrench|plane|level|chisel|spade|shovel|file|pitchfork|plough|hose|rake|hoe|cork|pencil|pen|crayon|charcoal|chalk|bluepencil|redpencil|comb|brush|riddle|siphon|funnel|fan|helm|jack|winch|brake|catapult|mill|gin|pump|xerox|ditto|clock|rack|guillotine|iron|type|print|balance|zeppelin|gavel|bankroll|dye|xandm|ransom|xray|requisition|blackball|smoke|steam|claw|horn|putty\"&tag=\"N.*\"]\n",
      "\n",
      "rel: instrument, novelty: novel\n",
      "q[tag=\"PP.?|DT\"]?[tag=\"N.*\"][tag=\"V.*\"][tag=\"PP.?|DT\"]?[tag=\"N.*\"][lemma=\"with|by|through|via|using\"][tag=\"PP.?|DT\"]?[lemma=\"tractor|cablecar|tram|trolley|streetcar|tricycle|van|cab|jitney|greyhound|buick|v8|limousine|elevator|escalator|sailboat|steamship|queen|flatboat|lighter|747|concorde|glider|chopper|zeppelin|twa|ua|air|tbar|pogostick|skateboard|bargepole|oar|skipole|icepick|pickax|crampon|bart|whirlwind|guitar|barrow|stretcher|semaphore|flag|tanker|epoxy|maskingtape|web|seatbelt|hasp|thong|broom|floorsweeper|floss|stimudent|ajavx|vim|windex|soapandwater|shillelagh|bottle|poleax|shoeheel|rock|rawhide|ruler|sabre|tusk|razor|scissor|hatchet|broadax|ripsaw|billhook|toothpick|avalanche|tnt|sten|mace|carbon|jaw|mud|trumpet|bugle|guitar|teaspoon|tablespoon|chopstick|spatula|blender|microwave|launderette|greenhouse|nursery|church|bargaincounter|knuckle|arm|crayon|hairpin|anvil|crutch|pulley|centrifuge|meter|autoclave|steamiron|sewingmachine|schoolbell|nettle|ink|rit|clairol|straitjacket|sir|christian|badworded|carte|86\"&tag=\"N.*\"]\n",
      "\n",
      "rel: duration, novelty: established\n",
      "q[tag=\"PP.?|DT\"]?[tag=\"N.*\"][tag=\"V.*\"][lemma=\"with|at\"][tag=\"N.*|PP.?\"][lemma=\"during\"][]{0,1}[lemma=\"summer|winter|vacation|holiday|weekend|honeymoon|moonlight\"&tag=\"N.*\"]\n",
      "\n",
      "rel: duration, novelty: novel\n",
      "q[tag=\"PP.?|DT\"]?[tag=\"N.*\"][tag=\"V.*\"][lemma=\"with|at\"][tag=\"N.*|PP.?\"][lemma=\"during\"][]{0,1}[lemma=\"new-year|jetlag|christmas|thanksgiving|overnight\"&tag=\"N.*\"]\n",
      "\n"
     ]
    }
   ],
   "source": [
    "import itertools\n",
    "import pandas as pd\n",
    "rels = ['locatum_on', 'locatum_out', 'location_on', 'location_out', 'agent', 'goal', 'instrument', 'duration']\n",
    "novelties = ['established', 'novel']\n",
    "\n",
    "es_denoms_df = pd.read_csv(\"./data/clark/denoms_established.csv\")\n",
    "nv_denoms_df = pd.read_csv(\"./data/clark/denoms_novel.csv\")\n",
    "\n",
    "denom_df = {'established': es_denoms_df, \n",
    "          'novel': nv_denoms_df}\n",
    "\n",
    "comb = [rels, novelties]\n",
    "for rel, novelty in list(itertools.product(*comb)):\n",
    "    df = denom_df[novelty]\n",
    "    denoms = list(df[df['relation class'] == rel]['denominal verb'])\n",
    "    query = make_query(denoms, rel)\n",
    "    print('rel: ' + rel + ', novelty: ' + novelty)\n",
    "    print(query + '\\n')"
   ]
  },
  {
   "cell_type": "code",
   "execution_count": 16,
   "metadata": {},
   "outputs": [],
   "source": [
    "established_denoms_df = pd.read_csv(\"./data/clark/denoms_established.csv\")\n",
    "novel_denoms_df = pd.read_csv(\"./data/clark/denoms_novel.csv\")"
   ]
  },
  {
   "cell_type": "code",
   "execution_count": 17,
   "metadata": {},
   "outputs": [],
   "source": [
    "from nltk.corpus import stopwords\n",
    "stop_words = list(set(stopwords.words('english')))\n",
    "for index, row in established_denoms_df.iterrows():\n",
    "    row['denominal verb'] = row['denominal verb'].lower()\n",
    "    if row['denominal verb'] in stop_words:\n",
    "        established_denoms_df.drop([index], inplace=True)\n",
    "        \n",
    "for index, row in novel_denoms_df.iterrows():\n",
    "    row['denominal verb'] = row['denominal verb'].lower()\n",
    "    if row['denominal verb'] in stop_words:\n",
    "        novel_denoms_df.drop([index], inplace=True)\n",
    "        \n",
    "        "
   ]
  },
  {
   "cell_type": "code",
   "execution_count": 18,
   "metadata": {},
   "outputs": [],
   "source": [
    "established_denoms_df.to_csv(\"./data/clark/denoms_established.csv\", index=False)\n",
    "novel_denoms_df.to_csv(\"./data/clark/denoms_novel.csv\", index=False)"
   ]
  },
  {
   "cell_type": "code",
   "execution_count": 7,
   "metadata": {},
   "outputs": [
    {
     "data": {
      "text/plain": [
       "'q[tag=\"PP.?|DT\"]?[tag=\"N.*\"][tag=\"V.*\"][lemma=\"with|at\"][tag=\"N.*|PP.?\"][lemma=\"during\"][]{0,1}[lemma=\"new-year|jetlag|christmas|thanksgiving|overnight\"&tag=\"N.*\"]'"
      ]
     },
     "execution_count": 7,
     "metadata": {},
     "output_type": "execute_result"
    }
   ],
   "source": [
    "query = make_query()"
   ]
  },
  {
   "cell_type": "code",
   "execution_count": 6,
   "metadata": {},
   "outputs": [
    {
     "ename": "KeyboardInterrupt",
     "evalue": "",
     "output_type": "error",
     "traceback": [
      "\u001b[0;31m---------------------------------------------------------------------------\u001b[0m",
      "\u001b[0;31mKeyboardInterrupt\u001b[0m                         Traceback (most recent call last)",
      "\u001b[0;32m<ipython-input-6-032eebb20160>\u001b[0m in \u001b[0;36m<module>\u001b[0;34m\u001b[0m\n\u001b[1;32m     10\u001b[0m         \u001b[0;34m'fromp'\u001b[0m\u001b[0;34m:\u001b[0m\u001b[0;36m1\u001b[0m\u001b[0;34m\u001b[0m\u001b[0m\n\u001b[1;32m     11\u001b[0m     }\n\u001b[0;32m---> 12\u001b[0;31m \u001b[0md\u001b[0m \u001b[0;34m=\u001b[0m \u001b[0mrequests\u001b[0m\u001b[0;34m.\u001b[0m\u001b[0mget\u001b[0m\u001b[0;34m(\u001b[0m\u001b[0mbase_url\u001b[0m \u001b[0;34m+\u001b[0m \u001b[0;34m'/view'\u001b[0m\u001b[0;34m,\u001b[0m \u001b[0mparams\u001b[0m\u001b[0;34m=\u001b[0m\u001b[0mdata\u001b[0m\u001b[0;34m)\u001b[0m\u001b[0;34m.\u001b[0m\u001b[0mjson\u001b[0m\u001b[0;34m(\u001b[0m\u001b[0;34m)\u001b[0m\u001b[0;34m\u001b[0m\u001b[0m\n\u001b[0m",
      "\u001b[0;32m/Library/Frameworks/Python.framework/Versions/3.6/lib/python3.6/site-packages/requests/api.py\u001b[0m in \u001b[0;36mget\u001b[0;34m(url, params, **kwargs)\u001b[0m\n\u001b[1;32m     73\u001b[0m \u001b[0;34m\u001b[0m\u001b[0m\n\u001b[1;32m     74\u001b[0m     \u001b[0mkwargs\u001b[0m\u001b[0;34m.\u001b[0m\u001b[0msetdefault\u001b[0m\u001b[0;34m(\u001b[0m\u001b[0;34m'allow_redirects'\u001b[0m\u001b[0;34m,\u001b[0m \u001b[0;32mTrue\u001b[0m\u001b[0;34m)\u001b[0m\u001b[0;34m\u001b[0m\u001b[0m\n\u001b[0;32m---> 75\u001b[0;31m     \u001b[0;32mreturn\u001b[0m \u001b[0mrequest\u001b[0m\u001b[0;34m(\u001b[0m\u001b[0;34m'get'\u001b[0m\u001b[0;34m,\u001b[0m \u001b[0murl\u001b[0m\u001b[0;34m,\u001b[0m \u001b[0mparams\u001b[0m\u001b[0;34m=\u001b[0m\u001b[0mparams\u001b[0m\u001b[0;34m,\u001b[0m \u001b[0;34m**\u001b[0m\u001b[0mkwargs\u001b[0m\u001b[0;34m)\u001b[0m\u001b[0;34m\u001b[0m\u001b[0m\n\u001b[0m\u001b[1;32m     76\u001b[0m \u001b[0;34m\u001b[0m\u001b[0m\n\u001b[1;32m     77\u001b[0m \u001b[0;34m\u001b[0m\u001b[0m\n",
      "\u001b[0;32m/Library/Frameworks/Python.framework/Versions/3.6/lib/python3.6/site-packages/requests/api.py\u001b[0m in \u001b[0;36mrequest\u001b[0;34m(method, url, **kwargs)\u001b[0m\n\u001b[1;32m     58\u001b[0m     \u001b[0;31m# cases, and look like a memory leak in others.\u001b[0m\u001b[0;34m\u001b[0m\u001b[0;34m\u001b[0m\u001b[0m\n\u001b[1;32m     59\u001b[0m     \u001b[0;32mwith\u001b[0m \u001b[0msessions\u001b[0m\u001b[0;34m.\u001b[0m\u001b[0mSession\u001b[0m\u001b[0;34m(\u001b[0m\u001b[0;34m)\u001b[0m \u001b[0;32mas\u001b[0m \u001b[0msession\u001b[0m\u001b[0;34m:\u001b[0m\u001b[0;34m\u001b[0m\u001b[0m\n\u001b[0;32m---> 60\u001b[0;31m         \u001b[0;32mreturn\u001b[0m \u001b[0msession\u001b[0m\u001b[0;34m.\u001b[0m\u001b[0mrequest\u001b[0m\u001b[0;34m(\u001b[0m\u001b[0mmethod\u001b[0m\u001b[0;34m=\u001b[0m\u001b[0mmethod\u001b[0m\u001b[0;34m,\u001b[0m \u001b[0murl\u001b[0m\u001b[0;34m=\u001b[0m\u001b[0murl\u001b[0m\u001b[0;34m,\u001b[0m \u001b[0;34m**\u001b[0m\u001b[0mkwargs\u001b[0m\u001b[0;34m)\u001b[0m\u001b[0;34m\u001b[0m\u001b[0m\n\u001b[0m\u001b[1;32m     61\u001b[0m \u001b[0;34m\u001b[0m\u001b[0m\n\u001b[1;32m     62\u001b[0m \u001b[0;34m\u001b[0m\u001b[0m\n",
      "\u001b[0;32m/Library/Frameworks/Python.framework/Versions/3.6/lib/python3.6/site-packages/requests/sessions.py\u001b[0m in \u001b[0;36mrequest\u001b[0;34m(self, method, url, params, data, headers, cookies, files, auth, timeout, allow_redirects, proxies, hooks, stream, verify, cert, json)\u001b[0m\n\u001b[1;32m    531\u001b[0m         }\n\u001b[1;32m    532\u001b[0m         \u001b[0msend_kwargs\u001b[0m\u001b[0;34m.\u001b[0m\u001b[0mupdate\u001b[0m\u001b[0;34m(\u001b[0m\u001b[0msettings\u001b[0m\u001b[0;34m)\u001b[0m\u001b[0;34m\u001b[0m\u001b[0m\n\u001b[0;32m--> 533\u001b[0;31m         \u001b[0mresp\u001b[0m \u001b[0;34m=\u001b[0m \u001b[0mself\u001b[0m\u001b[0;34m.\u001b[0m\u001b[0msend\u001b[0m\u001b[0;34m(\u001b[0m\u001b[0mprep\u001b[0m\u001b[0;34m,\u001b[0m \u001b[0;34m**\u001b[0m\u001b[0msend_kwargs\u001b[0m\u001b[0;34m)\u001b[0m\u001b[0;34m\u001b[0m\u001b[0m\n\u001b[0m\u001b[1;32m    534\u001b[0m \u001b[0;34m\u001b[0m\u001b[0m\n\u001b[1;32m    535\u001b[0m         \u001b[0;32mreturn\u001b[0m \u001b[0mresp\u001b[0m\u001b[0;34m\u001b[0m\u001b[0m\n",
      "\u001b[0;32m/Library/Frameworks/Python.framework/Versions/3.6/lib/python3.6/site-packages/requests/sessions.py\u001b[0m in \u001b[0;36msend\u001b[0;34m(self, request, **kwargs)\u001b[0m\n\u001b[1;32m    644\u001b[0m \u001b[0;34m\u001b[0m\u001b[0m\n\u001b[1;32m    645\u001b[0m         \u001b[0;31m# Send the request\u001b[0m\u001b[0;34m\u001b[0m\u001b[0;34m\u001b[0m\u001b[0m\n\u001b[0;32m--> 646\u001b[0;31m         \u001b[0mr\u001b[0m \u001b[0;34m=\u001b[0m \u001b[0madapter\u001b[0m\u001b[0;34m.\u001b[0m\u001b[0msend\u001b[0m\u001b[0;34m(\u001b[0m\u001b[0mrequest\u001b[0m\u001b[0;34m,\u001b[0m \u001b[0;34m**\u001b[0m\u001b[0mkwargs\u001b[0m\u001b[0;34m)\u001b[0m\u001b[0;34m\u001b[0m\u001b[0m\n\u001b[0m\u001b[1;32m    647\u001b[0m \u001b[0;34m\u001b[0m\u001b[0m\n\u001b[1;32m    648\u001b[0m         \u001b[0;31m# Total elapsed time of the request (approximately)\u001b[0m\u001b[0;34m\u001b[0m\u001b[0;34m\u001b[0m\u001b[0m\n",
      "\u001b[0;32m/Library/Frameworks/Python.framework/Versions/3.6/lib/python3.6/site-packages/requests/adapters.py\u001b[0m in \u001b[0;36msend\u001b[0;34m(self, request, stream, timeout, verify, cert, proxies)\u001b[0m\n\u001b[1;32m    447\u001b[0m                     \u001b[0mdecode_content\u001b[0m\u001b[0;34m=\u001b[0m\u001b[0;32mFalse\u001b[0m\u001b[0;34m,\u001b[0m\u001b[0;34m\u001b[0m\u001b[0m\n\u001b[1;32m    448\u001b[0m                     \u001b[0mretries\u001b[0m\u001b[0;34m=\u001b[0m\u001b[0mself\u001b[0m\u001b[0;34m.\u001b[0m\u001b[0mmax_retries\u001b[0m\u001b[0;34m,\u001b[0m\u001b[0;34m\u001b[0m\u001b[0m\n\u001b[0;32m--> 449\u001b[0;31m                     \u001b[0mtimeout\u001b[0m\u001b[0;34m=\u001b[0m\u001b[0mtimeout\u001b[0m\u001b[0;34m\u001b[0m\u001b[0m\n\u001b[0m\u001b[1;32m    450\u001b[0m                 )\n\u001b[1;32m    451\u001b[0m \u001b[0;34m\u001b[0m\u001b[0m\n",
      "\u001b[0;32m/Library/Frameworks/Python.framework/Versions/3.6/lib/python3.6/site-packages/urllib3/connectionpool.py\u001b[0m in \u001b[0;36murlopen\u001b[0;34m(self, method, url, body, headers, retries, redirect, assert_same_host, timeout, pool_timeout, release_conn, chunked, body_pos, **response_kw)\u001b[0m\n\u001b[1;32m    670\u001b[0m                 \u001b[0mbody\u001b[0m\u001b[0;34m=\u001b[0m\u001b[0mbody\u001b[0m\u001b[0;34m,\u001b[0m\u001b[0;34m\u001b[0m\u001b[0m\n\u001b[1;32m    671\u001b[0m                 \u001b[0mheaders\u001b[0m\u001b[0;34m=\u001b[0m\u001b[0mheaders\u001b[0m\u001b[0;34m,\u001b[0m\u001b[0;34m\u001b[0m\u001b[0m\n\u001b[0;32m--> 672\u001b[0;31m                 \u001b[0mchunked\u001b[0m\u001b[0;34m=\u001b[0m\u001b[0mchunked\u001b[0m\u001b[0;34m,\u001b[0m\u001b[0;34m\u001b[0m\u001b[0m\n\u001b[0m\u001b[1;32m    673\u001b[0m             )\n\u001b[1;32m    674\u001b[0m \u001b[0;34m\u001b[0m\u001b[0m\n",
      "\u001b[0;32m/Library/Frameworks/Python.framework/Versions/3.6/lib/python3.6/site-packages/urllib3/connectionpool.py\u001b[0m in \u001b[0;36m_make_request\u001b[0;34m(self, conn, method, url, timeout, chunked, **httplib_request_kw)\u001b[0m\n\u001b[1;32m    419\u001b[0m                     \u001b[0;31m# Python 3 (including for exceptions like SystemExit).\u001b[0m\u001b[0;34m\u001b[0m\u001b[0;34m\u001b[0m\u001b[0m\n\u001b[1;32m    420\u001b[0m                     \u001b[0;31m# Otherwise it looks like a bug in the code.\u001b[0m\u001b[0;34m\u001b[0m\u001b[0;34m\u001b[0m\u001b[0m\n\u001b[0;32m--> 421\u001b[0;31m                     \u001b[0msix\u001b[0m\u001b[0;34m.\u001b[0m\u001b[0mraise_from\u001b[0m\u001b[0;34m(\u001b[0m\u001b[0me\u001b[0m\u001b[0;34m,\u001b[0m \u001b[0;32mNone\u001b[0m\u001b[0;34m)\u001b[0m\u001b[0;34m\u001b[0m\u001b[0m\n\u001b[0m\u001b[1;32m    422\u001b[0m         \u001b[0;32mexcept\u001b[0m \u001b[0;34m(\u001b[0m\u001b[0mSocketTimeout\u001b[0m\u001b[0;34m,\u001b[0m \u001b[0mBaseSSLError\u001b[0m\u001b[0;34m,\u001b[0m \u001b[0mSocketError\u001b[0m\u001b[0;34m)\u001b[0m \u001b[0;32mas\u001b[0m \u001b[0me\u001b[0m\u001b[0;34m:\u001b[0m\u001b[0;34m\u001b[0m\u001b[0m\n\u001b[1;32m    423\u001b[0m             \u001b[0mself\u001b[0m\u001b[0;34m.\u001b[0m\u001b[0m_raise_timeout\u001b[0m\u001b[0;34m(\u001b[0m\u001b[0merr\u001b[0m\u001b[0;34m=\u001b[0m\u001b[0me\u001b[0m\u001b[0;34m,\u001b[0m \u001b[0murl\u001b[0m\u001b[0;34m=\u001b[0m\u001b[0murl\u001b[0m\u001b[0;34m,\u001b[0m \u001b[0mtimeout_value\u001b[0m\u001b[0;34m=\u001b[0m\u001b[0mread_timeout\u001b[0m\u001b[0;34m)\u001b[0m\u001b[0;34m\u001b[0m\u001b[0m\n",
      "\u001b[0;32m/Library/Frameworks/Python.framework/Versions/3.6/lib/python3.6/site-packages/urllib3/packages/six.py\u001b[0m in \u001b[0;36mraise_from\u001b[0;34m(value, from_value)\u001b[0m\n",
      "\u001b[0;32m/Library/Frameworks/Python.framework/Versions/3.6/lib/python3.6/site-packages/urllib3/connectionpool.py\u001b[0m in \u001b[0;36m_make_request\u001b[0;34m(self, conn, method, url, timeout, chunked, **httplib_request_kw)\u001b[0m\n\u001b[1;32m    414\u001b[0m                 \u001b[0;31m# Python 3\u001b[0m\u001b[0;34m\u001b[0m\u001b[0;34m\u001b[0m\u001b[0m\n\u001b[1;32m    415\u001b[0m                 \u001b[0;32mtry\u001b[0m\u001b[0;34m:\u001b[0m\u001b[0;34m\u001b[0m\u001b[0m\n\u001b[0;32m--> 416\u001b[0;31m                     \u001b[0mhttplib_response\u001b[0m \u001b[0;34m=\u001b[0m \u001b[0mconn\u001b[0m\u001b[0;34m.\u001b[0m\u001b[0mgetresponse\u001b[0m\u001b[0;34m(\u001b[0m\u001b[0;34m)\u001b[0m\u001b[0;34m\u001b[0m\u001b[0m\n\u001b[0m\u001b[1;32m    417\u001b[0m                 \u001b[0;32mexcept\u001b[0m \u001b[0mBaseException\u001b[0m \u001b[0;32mas\u001b[0m \u001b[0me\u001b[0m\u001b[0;34m:\u001b[0m\u001b[0;34m\u001b[0m\u001b[0m\n\u001b[1;32m    418\u001b[0m                     \u001b[0;31m# Remove the TypeError from the exception chain in\u001b[0m\u001b[0;34m\u001b[0m\u001b[0;34m\u001b[0m\u001b[0m\n",
      "\u001b[0;32m/Library/Frameworks/Python.framework/Versions/3.6/lib/python3.6/http/client.py\u001b[0m in \u001b[0;36mgetresponse\u001b[0;34m(self)\u001b[0m\n\u001b[1;32m   1329\u001b[0m         \u001b[0;32mtry\u001b[0m\u001b[0;34m:\u001b[0m\u001b[0;34m\u001b[0m\u001b[0m\n\u001b[1;32m   1330\u001b[0m             \u001b[0;32mtry\u001b[0m\u001b[0;34m:\u001b[0m\u001b[0;34m\u001b[0m\u001b[0m\n\u001b[0;32m-> 1331\u001b[0;31m                 \u001b[0mresponse\u001b[0m\u001b[0;34m.\u001b[0m\u001b[0mbegin\u001b[0m\u001b[0;34m(\u001b[0m\u001b[0;34m)\u001b[0m\u001b[0;34m\u001b[0m\u001b[0m\n\u001b[0m\u001b[1;32m   1332\u001b[0m             \u001b[0;32mexcept\u001b[0m \u001b[0mConnectionError\u001b[0m\u001b[0;34m:\u001b[0m\u001b[0;34m\u001b[0m\u001b[0m\n\u001b[1;32m   1333\u001b[0m                 \u001b[0mself\u001b[0m\u001b[0;34m.\u001b[0m\u001b[0mclose\u001b[0m\u001b[0;34m(\u001b[0m\u001b[0;34m)\u001b[0m\u001b[0;34m\u001b[0m\u001b[0m\n",
      "\u001b[0;32m/Library/Frameworks/Python.framework/Versions/3.6/lib/python3.6/http/client.py\u001b[0m in \u001b[0;36mbegin\u001b[0;34m(self)\u001b[0m\n\u001b[1;32m    295\u001b[0m         \u001b[0;31m# read until we get a non-100 response\u001b[0m\u001b[0;34m\u001b[0m\u001b[0;34m\u001b[0m\u001b[0m\n\u001b[1;32m    296\u001b[0m         \u001b[0;32mwhile\u001b[0m \u001b[0;32mTrue\u001b[0m\u001b[0;34m:\u001b[0m\u001b[0;34m\u001b[0m\u001b[0m\n\u001b[0;32m--> 297\u001b[0;31m             \u001b[0mversion\u001b[0m\u001b[0;34m,\u001b[0m \u001b[0mstatus\u001b[0m\u001b[0;34m,\u001b[0m \u001b[0mreason\u001b[0m \u001b[0;34m=\u001b[0m \u001b[0mself\u001b[0m\u001b[0;34m.\u001b[0m\u001b[0m_read_status\u001b[0m\u001b[0;34m(\u001b[0m\u001b[0;34m)\u001b[0m\u001b[0;34m\u001b[0m\u001b[0m\n\u001b[0m\u001b[1;32m    298\u001b[0m             \u001b[0;32mif\u001b[0m \u001b[0mstatus\u001b[0m \u001b[0;34m!=\u001b[0m \u001b[0mCONTINUE\u001b[0m\u001b[0;34m:\u001b[0m\u001b[0;34m\u001b[0m\u001b[0m\n\u001b[1;32m    299\u001b[0m                 \u001b[0;32mbreak\u001b[0m\u001b[0;34m\u001b[0m\u001b[0m\n",
      "\u001b[0;32m/Library/Frameworks/Python.framework/Versions/3.6/lib/python3.6/http/client.py\u001b[0m in \u001b[0;36m_read_status\u001b[0;34m(self)\u001b[0m\n\u001b[1;32m    256\u001b[0m \u001b[0;34m\u001b[0m\u001b[0m\n\u001b[1;32m    257\u001b[0m     \u001b[0;32mdef\u001b[0m \u001b[0m_read_status\u001b[0m\u001b[0;34m(\u001b[0m\u001b[0mself\u001b[0m\u001b[0;34m)\u001b[0m\u001b[0;34m:\u001b[0m\u001b[0;34m\u001b[0m\u001b[0m\n\u001b[0;32m--> 258\u001b[0;31m         \u001b[0mline\u001b[0m \u001b[0;34m=\u001b[0m \u001b[0mstr\u001b[0m\u001b[0;34m(\u001b[0m\u001b[0mself\u001b[0m\u001b[0;34m.\u001b[0m\u001b[0mfp\u001b[0m\u001b[0;34m.\u001b[0m\u001b[0mreadline\u001b[0m\u001b[0;34m(\u001b[0m\u001b[0m_MAXLINE\u001b[0m \u001b[0;34m+\u001b[0m \u001b[0;36m1\u001b[0m\u001b[0;34m)\u001b[0m\u001b[0;34m,\u001b[0m \u001b[0;34m\"iso-8859-1\"\u001b[0m\u001b[0;34m)\u001b[0m\u001b[0;34m\u001b[0m\u001b[0m\n\u001b[0m\u001b[1;32m    259\u001b[0m         \u001b[0;32mif\u001b[0m \u001b[0mlen\u001b[0m\u001b[0;34m(\u001b[0m\u001b[0mline\u001b[0m\u001b[0;34m)\u001b[0m \u001b[0;34m>\u001b[0m \u001b[0m_MAXLINE\u001b[0m\u001b[0;34m:\u001b[0m\u001b[0;34m\u001b[0m\u001b[0m\n\u001b[1;32m    260\u001b[0m             \u001b[0;32mraise\u001b[0m \u001b[0mLineTooLong\u001b[0m\u001b[0;34m(\u001b[0m\u001b[0;34m\"status line\"\u001b[0m\u001b[0;34m)\u001b[0m\u001b[0;34m\u001b[0m\u001b[0m\n",
      "\u001b[0;32m/Library/Frameworks/Python.framework/Versions/3.6/lib/python3.6/socket.py\u001b[0m in \u001b[0;36mreadinto\u001b[0;34m(self, b)\u001b[0m\n\u001b[1;32m    584\u001b[0m         \u001b[0;32mwhile\u001b[0m \u001b[0;32mTrue\u001b[0m\u001b[0;34m:\u001b[0m\u001b[0;34m\u001b[0m\u001b[0m\n\u001b[1;32m    585\u001b[0m             \u001b[0;32mtry\u001b[0m\u001b[0;34m:\u001b[0m\u001b[0;34m\u001b[0m\u001b[0m\n\u001b[0;32m--> 586\u001b[0;31m                 \u001b[0;32mreturn\u001b[0m \u001b[0mself\u001b[0m\u001b[0;34m.\u001b[0m\u001b[0m_sock\u001b[0m\u001b[0;34m.\u001b[0m\u001b[0mrecv_into\u001b[0m\u001b[0;34m(\u001b[0m\u001b[0mb\u001b[0m\u001b[0;34m)\u001b[0m\u001b[0;34m\u001b[0m\u001b[0m\n\u001b[0m\u001b[1;32m    587\u001b[0m             \u001b[0;32mexcept\u001b[0m \u001b[0mtimeout\u001b[0m\u001b[0;34m:\u001b[0m\u001b[0;34m\u001b[0m\u001b[0m\n\u001b[1;32m    588\u001b[0m                 \u001b[0mself\u001b[0m\u001b[0;34m.\u001b[0m\u001b[0m_timeout_occurred\u001b[0m \u001b[0;34m=\u001b[0m \u001b[0;32mTrue\u001b[0m\u001b[0;34m\u001b[0m\u001b[0m\n",
      "\u001b[0;32m/Library/Frameworks/Python.framework/Versions/3.6/lib/python3.6/ssl.py\u001b[0m in \u001b[0;36mrecv_into\u001b[0;34m(self, buffer, nbytes, flags)\u001b[0m\n\u001b[1;32m   1007\u001b[0m                   \u001b[0;34m\"non-zero flags not allowed in calls to recv_into() on %s\"\u001b[0m \u001b[0;34m%\u001b[0m\u001b[0;34m\u001b[0m\u001b[0m\n\u001b[1;32m   1008\u001b[0m                   self.__class__)\n\u001b[0;32m-> 1009\u001b[0;31m             \u001b[0;32mreturn\u001b[0m \u001b[0mself\u001b[0m\u001b[0;34m.\u001b[0m\u001b[0mread\u001b[0m\u001b[0;34m(\u001b[0m\u001b[0mnbytes\u001b[0m\u001b[0;34m,\u001b[0m \u001b[0mbuffer\u001b[0m\u001b[0;34m)\u001b[0m\u001b[0;34m\u001b[0m\u001b[0m\n\u001b[0m\u001b[1;32m   1010\u001b[0m         \u001b[0;32melse\u001b[0m\u001b[0;34m:\u001b[0m\u001b[0;34m\u001b[0m\u001b[0m\n\u001b[1;32m   1011\u001b[0m             \u001b[0;32mreturn\u001b[0m \u001b[0msocket\u001b[0m\u001b[0;34m.\u001b[0m\u001b[0mrecv_into\u001b[0m\u001b[0;34m(\u001b[0m\u001b[0mself\u001b[0m\u001b[0;34m,\u001b[0m \u001b[0mbuffer\u001b[0m\u001b[0;34m,\u001b[0m \u001b[0mnbytes\u001b[0m\u001b[0;34m,\u001b[0m \u001b[0mflags\u001b[0m\u001b[0;34m)\u001b[0m\u001b[0;34m\u001b[0m\u001b[0m\n",
      "\u001b[0;32m/Library/Frameworks/Python.framework/Versions/3.6/lib/python3.6/ssl.py\u001b[0m in \u001b[0;36mread\u001b[0;34m(self, len, buffer)\u001b[0m\n\u001b[1;32m    869\u001b[0m             \u001b[0;32mraise\u001b[0m \u001b[0mValueError\u001b[0m\u001b[0;34m(\u001b[0m\u001b[0;34m\"Read on closed or unwrapped SSL socket.\"\u001b[0m\u001b[0;34m)\u001b[0m\u001b[0;34m\u001b[0m\u001b[0m\n\u001b[1;32m    870\u001b[0m         \u001b[0;32mtry\u001b[0m\u001b[0;34m:\u001b[0m\u001b[0;34m\u001b[0m\u001b[0m\n\u001b[0;32m--> 871\u001b[0;31m             \u001b[0;32mreturn\u001b[0m \u001b[0mself\u001b[0m\u001b[0;34m.\u001b[0m\u001b[0m_sslobj\u001b[0m\u001b[0;34m.\u001b[0m\u001b[0mread\u001b[0m\u001b[0;34m(\u001b[0m\u001b[0mlen\u001b[0m\u001b[0;34m,\u001b[0m \u001b[0mbuffer\u001b[0m\u001b[0;34m)\u001b[0m\u001b[0;34m\u001b[0m\u001b[0m\n\u001b[0m\u001b[1;32m    872\u001b[0m         \u001b[0;32mexcept\u001b[0m \u001b[0mSSLError\u001b[0m \u001b[0;32mas\u001b[0m \u001b[0mx\u001b[0m\u001b[0;34m:\u001b[0m\u001b[0;34m\u001b[0m\u001b[0m\n\u001b[1;32m    873\u001b[0m             \u001b[0;32mif\u001b[0m \u001b[0mx\u001b[0m\u001b[0;34m.\u001b[0m\u001b[0margs\u001b[0m\u001b[0;34m[\u001b[0m\u001b[0;36m0\u001b[0m\u001b[0;34m]\u001b[0m \u001b[0;34m==\u001b[0m \u001b[0mSSL_ERROR_EOF\u001b[0m \u001b[0;32mand\u001b[0m \u001b[0mself\u001b[0m\u001b[0;34m.\u001b[0m\u001b[0msuppress_ragged_eofs\u001b[0m\u001b[0;34m:\u001b[0m\u001b[0;34m\u001b[0m\u001b[0m\n",
      "\u001b[0;32m/Library/Frameworks/Python.framework/Versions/3.6/lib/python3.6/ssl.py\u001b[0m in \u001b[0;36mread\u001b[0;34m(self, len, buffer)\u001b[0m\n\u001b[1;32m    629\u001b[0m         \"\"\"\n\u001b[1;32m    630\u001b[0m         \u001b[0;32mif\u001b[0m \u001b[0mbuffer\u001b[0m \u001b[0;32mis\u001b[0m \u001b[0;32mnot\u001b[0m \u001b[0;32mNone\u001b[0m\u001b[0;34m:\u001b[0m\u001b[0;34m\u001b[0m\u001b[0m\n\u001b[0;32m--> 631\u001b[0;31m             \u001b[0mv\u001b[0m \u001b[0;34m=\u001b[0m \u001b[0mself\u001b[0m\u001b[0;34m.\u001b[0m\u001b[0m_sslobj\u001b[0m\u001b[0;34m.\u001b[0m\u001b[0mread\u001b[0m\u001b[0;34m(\u001b[0m\u001b[0mlen\u001b[0m\u001b[0;34m,\u001b[0m \u001b[0mbuffer\u001b[0m\u001b[0;34m)\u001b[0m\u001b[0;34m\u001b[0m\u001b[0m\n\u001b[0m\u001b[1;32m    632\u001b[0m         \u001b[0;32melse\u001b[0m\u001b[0;34m:\u001b[0m\u001b[0;34m\u001b[0m\u001b[0m\n\u001b[1;32m    633\u001b[0m             \u001b[0mv\u001b[0m \u001b[0;34m=\u001b[0m \u001b[0mself\u001b[0m\u001b[0;34m.\u001b[0m\u001b[0m_sslobj\u001b[0m\u001b[0;34m.\u001b[0m\u001b[0mread\u001b[0m\u001b[0;34m(\u001b[0m\u001b[0mlen\u001b[0m\u001b[0;34m)\u001b[0m\u001b[0;34m\u001b[0m\u001b[0m\n",
      "\u001b[0;31mKeyboardInterrupt\u001b[0m: "
     ]
    }
   ],
   "source": [
    "import requests\n",
    "base_url = 'https://api.sketchengine.eu/bonito/run.cgi'\n",
    "data = {\n",
    "        'corpname': 'preloaded/ententen15_tt21',\n",
    "        'format': 'json',\n",
    "        'username': 'jadeleiyu',\n",
    "        'api_key': '73d48ddb5e7f42c591b4a59444d32884',\n",
    "        'q': query,\n",
    "        'pagesize': 10,\n",
    "        'fromp':1\n",
    "    }\n",
    "d = requests.get(base_url + '/view', params=data).json()"
   ]
  },
  {
   "cell_type": "code",
   "execution_count": 1,
   "metadata": {},
   "outputs": [],
   "source": [
    "import pickle\n",
    "from data_prep import Utterance\n",
    "novel_utterances = pickle.load(open(\"./data/clark/novel_utterances.p\", 'rb'))\n",
    "established_utterances = pickle.load(open(\"./data/clark/established_utterances.p\", 'rb'))"
   ]
  },
  {
   "cell_type": "code",
   "execution_count": 16,
   "metadata": {},
   "outputs": [
    {
     "data": {
      "text/plain": [
       "1008"
      ]
     },
     "execution_count": 16,
     "metadata": {},
     "output_type": "execute_result"
    }
   ],
   "source": [
    "len(novel_utterances)"
   ]
  },
  {
   "cell_type": "code",
   "execution_count": 17,
   "metadata": {},
   "outputs": [
    {
     "data": {
      "text/plain": [
       "2011"
      ]
     },
     "execution_count": 17,
     "metadata": {},
     "output_type": "execute_result"
    }
   ],
   "source": [
    "len(established_utterances)"
   ]
  },
  {
   "cell_type": "code",
   "execution_count": null,
   "metadata": {},
   "outputs": [],
   "source": []
  }
 ],
 "metadata": {
  "kernelspec": {
   "display_name": "Python 3",
   "language": "python",
   "name": "python3"
  },
  "language_info": {
   "codemirror_mode": {
    "name": "ipython",
    "version": 3
   },
   "file_extension": ".py",
   "mimetype": "text/x-python",
   "name": "python",
   "nbconvert_exporter": "python",
   "pygments_lexer": "ipython3",
   "version": "3.6.5"
  }
 },
 "nbformat": 4,
 "nbformat_minor": 2
}
